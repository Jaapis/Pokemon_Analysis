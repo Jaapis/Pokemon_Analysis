{
 "cells": [
  {
   "cell_type": "code",
   "execution_count": null,
   "metadata": {},
   "outputs": [],
   "source": []
  },
  {
   "cell_type": "markdown",
   "metadata": {},
   "source": [
    "# Projeto 1 - Coleta e Organização de Dados\n",
    "\n",
    "## Tema: Pokémon\n",
    "\n",
    "### Integrantes:\n",
    "\n",
    "\n",
    "- Luiz Felipe Fernandes Machado Costa - 24343\n",
    "- Jesuel Souza Dias - 27444\n",
    "- Rodrigo Toshiaki Horie - 26620\n",
    "- Tássio Silva - 2017005507\n",
    "\n",
    "## Perguntas:\n",
    "\n",
    "- Qual tipo de Pokémon mais comum?\n",
    "- Qual a taxa de Pokémon de tipo único?\n",
    "- Qual a taxa de Pokémon lendário?\n",
    "- Qual a geração que mais possui Pokémon?\n",
    "\n",
    "\n",
    "## Coleta dos dados\n",
    "\n",
    "Neste projeto o grupo utilizará a população de Pokémon existentes para analisar seus dados. Os dados foram obtidos de https://github.com/lgreski/pokemonData/blob/master/Pokemon.csv e podem ser conferidos quanto sua veracidade em https://www.serebii.net/pokedex-sm/ e https://bulbapedia.bulbagarden.net/wiki/Main_Page dando credibilidade aos dados. \n",
    "\n",
    "\n",
    "## Variáveis do Conjunto de Dados\n",
    "Este conjunto de dados possui algumas variáveis que podem parecer confusos. Para evitar este problema serão explicadas cada uma delas a seguir:\n",
    "- __Number:__ é o número de identificação de cada Pokémon. É como um ID. (Tipo: int)\n",
    "- __Name:__ é o nome de cada Pokémon. Este nome também indica se é ou não uma Mega evolução. (Tipo: string)\n",
    "- __Type1:__ é o tipo do Pokémon. Todo Pokémon possui ao menos um tipo. (Tipo: string)\n",
    "- __Type2:__ é o segundo tipo do Pokémon. Nem todo Pokémon possui 2 tipos. (Tipo: string)\n",
    "- __Total:__ É a somatório dos atributos de base utilizados para determinar os atributos de combate do Pokémon. (Tipo: int)\n",
    "- __HP:__ É o atributo de base para se calcular o atributo Vida do Pokémon. (Tipo: int)\n",
    "- __Attack:__ É o atributo de base para se calcular o atributo Ataque do Pokémon. (Tipo: int)\n",
    "- __Defense:__ É o atributo de base para se calcular o atributo Defesa do Pokémon. (Tipo: int)\n",
    "- __SpecialAtk:__ É o atributo de base para se calcular o atributo Ataque Especial do Pokémon. (Tipo: int)\n",
    "- __SpecialDef:__ É o atributo de base para se calcular o atributo Defesa Especial do Pokémon. (Tipo: int)\n",
    "- __Speed:__ É o atributo de base para se calcular o atributo Velocidade do Pokémon. (Tipo: int)\n",
    "- __Generation:__ Indica a qual geração cada Pokémon pertence. (Tipo: int)\n",
    "- __Legendary:__ Indica se o Pokémon é ou não lendário. (Tipo: boolean)\n",
    "\n",
    "\n",
    "## Considerações\n",
    "\n",
    "Este conjunto de dados possui todos os Pokémon lançados até a data de realização deste Projeto (31/08/2018) e contém todas as espécies de Pokémon, considerando também Mega Evoluções como novas espécies. Um Mega Venusaur é portanto interpretado como uma nova espécie em relação a um Venusaur. Os dados foram tratados dessa forma por se tratar de um Pokémon com stats diferentes e, muitas vezes, com composição de tipos diferentes de suas versões originais.\n",
    "\n",
    "## Exploração dos dados\n",
    "\n",
    "Os dados serão importados a seguir."
   ]
  },
  {
   "cell_type": "code",
   "execution_count": 156,
   "metadata": {},
   "outputs": [],
   "source": [
    "# Importa bibliotecas necessárias\n",
    "import pandas as pd\n",
    "import numpy as np\n",
    "import matplotlib.pyplot as plt\n",
    "import seaborn as sns\n"
   ]
  },
  {
   "cell_type": "code",
   "execution_count": 157,
   "metadata": {},
   "outputs": [],
   "source": [
    "# Cria dataframe com os dados de \"Pokemon.csv\"\n",
    "df = pd.read_csv('Pokemon.csv')"
   ]
  },
  {
   "cell_type": "markdown",
   "metadata": {},
   "source": [
    "Testa-se agora se os dados foram importados de forma correta."
   ]
  },
  {
   "cell_type": "code",
   "execution_count": 158,
   "metadata": {},
   "outputs": [
    {
     "data": {
      "text/html": [
       "<div>\n",
       "<style scoped>\n",
       "    .dataframe tbody tr th:only-of-type {\n",
       "        vertical-align: middle;\n",
       "    }\n",
       "\n",
       "    .dataframe tbody tr th {\n",
       "        vertical-align: top;\n",
       "    }\n",
       "\n",
       "    .dataframe thead th {\n",
       "        text-align: right;\n",
       "    }\n",
       "</style>\n",
       "<table border=\"1\" class=\"dataframe\">\n",
       "  <thead>\n",
       "    <tr style=\"text-align: right;\">\n",
       "      <th></th>\n",
       "      <th>Number</th>\n",
       "      <th>Name</th>\n",
       "      <th>Type1</th>\n",
       "      <th>Type2</th>\n",
       "      <th>Total</th>\n",
       "      <th>HP</th>\n",
       "      <th>Attack</th>\n",
       "      <th>Defense</th>\n",
       "      <th>SpecialAtk</th>\n",
       "      <th>SpecialDef</th>\n",
       "      <th>Speed</th>\n",
       "      <th>Generation</th>\n",
       "      <th>Legendary</th>\n",
       "    </tr>\n",
       "  </thead>\n",
       "  <tbody>\n",
       "    <tr>\n",
       "      <th>0</th>\n",
       "      <td>1</td>\n",
       "      <td>Bulbasaur</td>\n",
       "      <td>Grass</td>\n",
       "      <td>Poison</td>\n",
       "      <td>318</td>\n",
       "      <td>45</td>\n",
       "      <td>49</td>\n",
       "      <td>49</td>\n",
       "      <td>65</td>\n",
       "      <td>65</td>\n",
       "      <td>45</td>\n",
       "      <td>1</td>\n",
       "      <td>False</td>\n",
       "    </tr>\n",
       "    <tr>\n",
       "      <th>1</th>\n",
       "      <td>2</td>\n",
       "      <td>Ivysaur</td>\n",
       "      <td>Grass</td>\n",
       "      <td>Poison</td>\n",
       "      <td>405</td>\n",
       "      <td>60</td>\n",
       "      <td>62</td>\n",
       "      <td>63</td>\n",
       "      <td>80</td>\n",
       "      <td>80</td>\n",
       "      <td>60</td>\n",
       "      <td>1</td>\n",
       "      <td>False</td>\n",
       "    </tr>\n",
       "    <tr>\n",
       "      <th>2</th>\n",
       "      <td>3</td>\n",
       "      <td>Venusaur</td>\n",
       "      <td>Grass</td>\n",
       "      <td>Poison</td>\n",
       "      <td>525</td>\n",
       "      <td>80</td>\n",
       "      <td>82</td>\n",
       "      <td>83</td>\n",
       "      <td>100</td>\n",
       "      <td>100</td>\n",
       "      <td>80</td>\n",
       "      <td>1</td>\n",
       "      <td>False</td>\n",
       "    </tr>\n",
       "    <tr>\n",
       "      <th>3</th>\n",
       "      <td>3</td>\n",
       "      <td>VenusaurMega Venusaur</td>\n",
       "      <td>Grass</td>\n",
       "      <td>Poison</td>\n",
       "      <td>625</td>\n",
       "      <td>80</td>\n",
       "      <td>100</td>\n",
       "      <td>123</td>\n",
       "      <td>122</td>\n",
       "      <td>120</td>\n",
       "      <td>80</td>\n",
       "      <td>1</td>\n",
       "      <td>False</td>\n",
       "    </tr>\n",
       "    <tr>\n",
       "      <th>4</th>\n",
       "      <td>4</td>\n",
       "      <td>Charmander</td>\n",
       "      <td>Fire</td>\n",
       "      <td>NaN</td>\n",
       "      <td>309</td>\n",
       "      <td>39</td>\n",
       "      <td>52</td>\n",
       "      <td>43</td>\n",
       "      <td>60</td>\n",
       "      <td>50</td>\n",
       "      <td>65</td>\n",
       "      <td>1</td>\n",
       "      <td>False</td>\n",
       "    </tr>\n",
       "  </tbody>\n",
       "</table>\n",
       "</div>"
      ],
      "text/plain": [
       "   Number                   Name  Type1   Type2  Total  HP  Attack  Defense  \\\n",
       "0       1              Bulbasaur  Grass  Poison    318  45      49       49   \n",
       "1       2                Ivysaur  Grass  Poison    405  60      62       63   \n",
       "2       3               Venusaur  Grass  Poison    525  80      82       83   \n",
       "3       3  VenusaurMega Venusaur  Grass  Poison    625  80     100      123   \n",
       "4       4             Charmander   Fire     NaN    309  39      52       43   \n",
       "\n",
       "   SpecialAtk  SpecialDef  Speed  Generation  Legendary  \n",
       "0          65          65     45           1      False  \n",
       "1          80          80     60           1      False  \n",
       "2         100         100     80           1      False  \n",
       "3         122         120     80           1      False  \n",
       "4          60          50     65           1      False  "
      ]
     },
     "execution_count": 158,
     "metadata": {},
     "output_type": "execute_result"
    }
   ],
   "source": [
    "# Imprime primeiras linhas para verificar dados\n",
    "df.head()"
   ]
  },
  {
   "cell_type": "markdown",
   "metadata": {},
   "source": [
    "Colunas e Linhas aparecem como esperado.\n",
    "\n",
    "Verifica-se então agora se há dados faltantes."
   ]
  },
  {
   "cell_type": "code",
   "execution_count": 159,
   "metadata": {
    "scrolled": true
   },
   "outputs": [
    {
     "name": "stdout",
     "output_type": "stream",
     "text": [
      "<class 'pandas.core.frame.DataFrame'>\n",
      "RangeIndex: 894 entries, 0 to 893\n",
      "Data columns (total 13 columns):\n",
      "Number        894 non-null int64\n",
      "Name          894 non-null object\n",
      "Type1         894 non-null object\n",
      "Type2         473 non-null object\n",
      "Total         894 non-null int64\n",
      "HP            894 non-null int64\n",
      "Attack        894 non-null int64\n",
      "Defense       894 non-null int64\n",
      "SpecialAtk    894 non-null int64\n",
      "SpecialDef    894 non-null int64\n",
      "Speed         894 non-null int64\n",
      "Generation    894 non-null int64\n",
      "Legendary     894 non-null bool\n",
      "dtypes: bool(1), int64(9), object(3)\n",
      "memory usage: 84.8+ KB\n"
     ]
    }
   ],
   "source": [
    "# Imprime informações sobre o conjunto de dados\n",
    "df.info()"
   ]
  },
  {
   "cell_type": "markdown",
   "metadata": {},
   "source": [
    "Pode-se observar que apenas os dados da coluna Type2 estão faltando. Porém, no contexto do jogo, existem Pokémon que possuem apenas um tipo, enquanto outros podem compor até dois tipos simultaneamente, portanto, estes dados não indicam problemas no conjunto de dados, mesmo que aparecendo valores nulos. Apenas pode-se confirmar que valores nulos em Type2 indicam que o Pokémon em questão só possui um tipo."
   ]
  },
  {
   "cell_type": "markdown",
   "metadata": {},
   "source": [
    "Deste conjunto de dados serão desconsideradas as colunas Total, Attack, Defense, SpecialAtk, SpecialDef e Speed, pois tratam-se de parâmetros para delimitar atributos de batalha de cada Pokémon. Algo que não é de interesse deste projeto. Por isso elas serão excluídas do conjunto de dados."
   ]
  },
  {
   "cell_type": "code",
   "execution_count": 160,
   "metadata": {},
   "outputs": [],
   "source": [
    "df.drop(['Total', 'HP', 'Attack', 'Defense', 'SpecialAtk', 'SpecialDef', 'Speed'], axis=1, inplace=True)"
   ]
  },
  {
   "cell_type": "markdown",
   "metadata": {},
   "source": [
    "Agora verificando as colunas que sobraram no conjunto de dados."
   ]
  },
  {
   "cell_type": "code",
   "execution_count": 161,
   "metadata": {},
   "outputs": [
    {
     "name": "stdout",
     "output_type": "stream",
     "text": [
      "<class 'pandas.core.frame.DataFrame'>\n",
      "RangeIndex: 894 entries, 0 to 893\n",
      "Data columns (total 6 columns):\n",
      "Number        894 non-null int64\n",
      "Name          894 non-null object\n",
      "Type1         894 non-null object\n",
      "Type2         473 non-null object\n",
      "Generation    894 non-null int64\n",
      "Legendary     894 non-null bool\n",
      "dtypes: bool(1), int64(2), object(3)\n",
      "memory usage: 35.9+ KB\n"
     ]
    }
   ],
   "source": [
    "df.info()"
   ]
  },
  {
   "cell_type": "markdown",
   "metadata": {},
   "source": [
    "Com os dados considerados desnecessários, passamos para a próxima etapa."
   ]
  },
  {
   "cell_type": "markdown",
   "metadata": {},
   "source": [
    "## Exploração dos dados\n",
    "\n",
    "Agora serão abordados métodos para encontrar respostas para as perguntas feitas inicialmente.\n",
    "\n",
    "### Pergunta 1: Qual o tipo de  Pokémon mais comum?\n",
    "\n",
    "Para responder esta pergunta, precisa-se apenas realizar a contagem de Pokémon com mesmo tipo, tanto para a coluna Type1 e Type2. Considerando que não existem Pokémon com tipos repetidos (ex: não existe um Pokémon de Type1: Water e Type2: Water) não é ncessário se preocupar com interseção no conjunto de dados entre essas duas colunas.\n",
    "\n",
    "Para identificar os diferentes tipos, separaremos os valores únicos da coluna Type1. É considerada desnecessária a visualização para o Type2 por sempre existir no mínimo um Pokémon com tipo único para todos os tipos"
   ]
  },
  {
   "cell_type": "code",
   "execution_count": 162,
   "metadata": {},
   "outputs": [
    {
     "name": "stdout",
     "output_type": "stream",
     "text": [
      "['Grass' 'Fire' 'Water' 'Bug' 'Normal' 'Poison' 'Electric' 'Ground'\n",
      " 'Fairy' 'Fighting' 'Psychic' 'Rock' 'Ghost' 'Ice' 'Dragon' 'Dark' 'Steel'\n",
      " 'Flying']\n"
     ]
    }
   ],
   "source": [
    "# Identifica-se os diferentes tipos de Pokémon\n",
    "types_df = df['Type1'].unique()\n",
    "\n",
    "print(types_df)"
   ]
  },
  {
   "cell_type": "markdown",
   "metadata": {},
   "source": [
    "A linha acima determina cada tipo existente de Pokémon. \n",
    "Com estes dados, pode-se agora eliminar informações desnecessárias e em seguida agrupar as informações restantes em um único conjunto de dados e excluindo valores nulos (Type2 = nulo)."
   ]
  },
  {
   "cell_type": "code",
   "execution_count": 163,
   "metadata": {},
   "outputs": [
    {
     "data": {
      "text/html": [
       "<div>\n",
       "<style scoped>\n",
       "    .dataframe tbody tr th:only-of-type {\n",
       "        vertical-align: middle;\n",
       "    }\n",
       "\n",
       "    .dataframe tbody tr th {\n",
       "        vertical-align: top;\n",
       "    }\n",
       "\n",
       "    .dataframe thead th {\n",
       "        text-align: right;\n",
       "    }\n",
       "</style>\n",
       "<table border=\"1\" class=\"dataframe\">\n",
       "  <thead>\n",
       "    <tr style=\"text-align: right;\">\n",
       "      <th></th>\n",
       "      <th>Type</th>\n",
       "    </tr>\n",
       "  </thead>\n",
       "  <tbody>\n",
       "    <tr>\n",
       "      <th>0</th>\n",
       "      <td>Grass</td>\n",
       "    </tr>\n",
       "    <tr>\n",
       "      <th>1</th>\n",
       "      <td>Grass</td>\n",
       "    </tr>\n",
       "    <tr>\n",
       "      <th>2</th>\n",
       "      <td>Grass</td>\n",
       "    </tr>\n",
       "    <tr>\n",
       "      <th>3</th>\n",
       "      <td>Grass</td>\n",
       "    </tr>\n",
       "    <tr>\n",
       "      <th>4</th>\n",
       "      <td>Fire</td>\n",
       "    </tr>\n",
       "    <tr>\n",
       "      <th>5</th>\n",
       "      <td>Fire</td>\n",
       "    </tr>\n",
       "    <tr>\n",
       "      <th>6</th>\n",
       "      <td>Fire</td>\n",
       "    </tr>\n",
       "    <tr>\n",
       "      <th>7</th>\n",
       "      <td>Fire</td>\n",
       "    </tr>\n",
       "    <tr>\n",
       "      <th>8</th>\n",
       "      <td>Fire</td>\n",
       "    </tr>\n",
       "    <tr>\n",
       "      <th>9</th>\n",
       "      <td>Water</td>\n",
       "    </tr>\n",
       "    <tr>\n",
       "      <th>10</th>\n",
       "      <td>Water</td>\n",
       "    </tr>\n",
       "    <tr>\n",
       "      <th>11</th>\n",
       "      <td>Water</td>\n",
       "    </tr>\n",
       "    <tr>\n",
       "      <th>12</th>\n",
       "      <td>Water</td>\n",
       "    </tr>\n",
       "    <tr>\n",
       "      <th>13</th>\n",
       "      <td>Bug</td>\n",
       "    </tr>\n",
       "    <tr>\n",
       "      <th>14</th>\n",
       "      <td>Bug</td>\n",
       "    </tr>\n",
       "    <tr>\n",
       "      <th>15</th>\n",
       "      <td>Bug</td>\n",
       "    </tr>\n",
       "    <tr>\n",
       "      <th>16</th>\n",
       "      <td>Bug</td>\n",
       "    </tr>\n",
       "    <tr>\n",
       "      <th>17</th>\n",
       "      <td>Bug</td>\n",
       "    </tr>\n",
       "    <tr>\n",
       "      <th>18</th>\n",
       "      <td>Bug</td>\n",
       "    </tr>\n",
       "    <tr>\n",
       "      <th>19</th>\n",
       "      <td>Bug</td>\n",
       "    </tr>\n",
       "    <tr>\n",
       "      <th>20</th>\n",
       "      <td>Normal</td>\n",
       "    </tr>\n",
       "    <tr>\n",
       "      <th>21</th>\n",
       "      <td>Normal</td>\n",
       "    </tr>\n",
       "    <tr>\n",
       "      <th>22</th>\n",
       "      <td>Normal</td>\n",
       "    </tr>\n",
       "    <tr>\n",
       "      <th>23</th>\n",
       "      <td>Normal</td>\n",
       "    </tr>\n",
       "    <tr>\n",
       "      <th>24</th>\n",
       "      <td>Normal</td>\n",
       "    </tr>\n",
       "    <tr>\n",
       "      <th>25</th>\n",
       "      <td>Normal</td>\n",
       "    </tr>\n",
       "    <tr>\n",
       "      <th>26</th>\n",
       "      <td>Normal</td>\n",
       "    </tr>\n",
       "    <tr>\n",
       "      <th>27</th>\n",
       "      <td>Normal</td>\n",
       "    </tr>\n",
       "    <tr>\n",
       "      <th>28</th>\n",
       "      <td>Poison</td>\n",
       "    </tr>\n",
       "    <tr>\n",
       "      <th>29</th>\n",
       "      <td>Poison</td>\n",
       "    </tr>\n",
       "    <tr>\n",
       "      <th>...</th>\n",
       "      <td>...</td>\n",
       "    </tr>\n",
       "    <tr>\n",
       "      <th>1750</th>\n",
       "      <td>Flying</td>\n",
       "    </tr>\n",
       "    <tr>\n",
       "      <th>1751</th>\n",
       "      <td>Flying</td>\n",
       "    </tr>\n",
       "    <tr>\n",
       "      <th>1753</th>\n",
       "      <td>Dragon</td>\n",
       "    </tr>\n",
       "    <tr>\n",
       "      <th>1754</th>\n",
       "      <td>Steel</td>\n",
       "    </tr>\n",
       "    <tr>\n",
       "      <th>1755</th>\n",
       "      <td>Fairy</td>\n",
       "    </tr>\n",
       "    <tr>\n",
       "      <th>1756</th>\n",
       "      <td>Psychic</td>\n",
       "    </tr>\n",
       "    <tr>\n",
       "      <th>1757</th>\n",
       "      <td>Dragon</td>\n",
       "    </tr>\n",
       "    <tr>\n",
       "      <th>1758</th>\n",
       "      <td>Grass</td>\n",
       "    </tr>\n",
       "    <tr>\n",
       "      <th>1760</th>\n",
       "      <td>Fighting</td>\n",
       "    </tr>\n",
       "    <tr>\n",
       "      <th>1761</th>\n",
       "      <td>Fighting</td>\n",
       "    </tr>\n",
       "    <tr>\n",
       "      <th>1762</th>\n",
       "      <td>Fairy</td>\n",
       "    </tr>\n",
       "    <tr>\n",
       "      <th>1763</th>\n",
       "      <td>Fairy</td>\n",
       "    </tr>\n",
       "    <tr>\n",
       "      <th>1764</th>\n",
       "      <td>Fairy</td>\n",
       "    </tr>\n",
       "    <tr>\n",
       "      <th>1765</th>\n",
       "      <td>Fairy</td>\n",
       "    </tr>\n",
       "    <tr>\n",
       "      <th>1768</th>\n",
       "      <td>Steel</td>\n",
       "    </tr>\n",
       "    <tr>\n",
       "      <th>1769</th>\n",
       "      <td>Ghost</td>\n",
       "    </tr>\n",
       "    <tr>\n",
       "      <th>1770</th>\n",
       "      <td>Poison</td>\n",
       "    </tr>\n",
       "    <tr>\n",
       "      <th>1771</th>\n",
       "      <td>Fighting</td>\n",
       "    </tr>\n",
       "    <tr>\n",
       "      <th>1772</th>\n",
       "      <td>Fighting</td>\n",
       "    </tr>\n",
       "    <tr>\n",
       "      <th>1774</th>\n",
       "      <td>Flying</td>\n",
       "    </tr>\n",
       "    <tr>\n",
       "      <th>1775</th>\n",
       "      <td>Steel</td>\n",
       "    </tr>\n",
       "    <tr>\n",
       "      <th>1776</th>\n",
       "      <td>Dragon</td>\n",
       "    </tr>\n",
       "    <tr>\n",
       "      <th>1778</th>\n",
       "      <td>Steel</td>\n",
       "    </tr>\n",
       "    <tr>\n",
       "      <th>1779</th>\n",
       "      <td>Ghost</td>\n",
       "    </tr>\n",
       "    <tr>\n",
       "      <th>1780</th>\n",
       "      <td>Dragon</td>\n",
       "    </tr>\n",
       "    <tr>\n",
       "      <th>1781</th>\n",
       "      <td>Fairy</td>\n",
       "    </tr>\n",
       "    <tr>\n",
       "      <th>1782</th>\n",
       "      <td>Ghost</td>\n",
       "    </tr>\n",
       "    <tr>\n",
       "      <th>1784</th>\n",
       "      <td>Dragon</td>\n",
       "    </tr>\n",
       "    <tr>\n",
       "      <th>1785</th>\n",
       "      <td>Steel</td>\n",
       "    </tr>\n",
       "    <tr>\n",
       "      <th>1786</th>\n",
       "      <td>Ghost</td>\n",
       "    </tr>\n",
       "  </tbody>\n",
       "</table>\n",
       "<p>1367 rows × 1 columns</p>\n",
       "</div>"
      ],
      "text/plain": [
       "          Type\n",
       "0        Grass\n",
       "1        Grass\n",
       "2        Grass\n",
       "3        Grass\n",
       "4         Fire\n",
       "5         Fire\n",
       "6         Fire\n",
       "7         Fire\n",
       "8         Fire\n",
       "9        Water\n",
       "10       Water\n",
       "11       Water\n",
       "12       Water\n",
       "13         Bug\n",
       "14         Bug\n",
       "15         Bug\n",
       "16         Bug\n",
       "17         Bug\n",
       "18         Bug\n",
       "19         Bug\n",
       "20      Normal\n",
       "21      Normal\n",
       "22      Normal\n",
       "23      Normal\n",
       "24      Normal\n",
       "25      Normal\n",
       "26      Normal\n",
       "27      Normal\n",
       "28      Poison\n",
       "29      Poison\n",
       "...        ...\n",
       "1750    Flying\n",
       "1751    Flying\n",
       "1753    Dragon\n",
       "1754     Steel\n",
       "1755     Fairy\n",
       "1756   Psychic\n",
       "1757    Dragon\n",
       "1758     Grass\n",
       "1760  Fighting\n",
       "1761  Fighting\n",
       "1762     Fairy\n",
       "1763     Fairy\n",
       "1764     Fairy\n",
       "1765     Fairy\n",
       "1768     Steel\n",
       "1769     Ghost\n",
       "1770    Poison\n",
       "1771  Fighting\n",
       "1772  Fighting\n",
       "1774    Flying\n",
       "1775     Steel\n",
       "1776    Dragon\n",
       "1778     Steel\n",
       "1779     Ghost\n",
       "1780    Dragon\n",
       "1781     Fairy\n",
       "1782     Ghost\n",
       "1784    Dragon\n",
       "1785     Steel\n",
       "1786     Ghost\n",
       "\n",
       "[1367 rows x 1 columns]"
      ]
     },
     "execution_count": 163,
     "metadata": {},
     "output_type": "execute_result"
    }
   ],
   "source": [
    "# Cria-se dois dataframes que incorporam as ocorrências de Type1 e Type2 e exclui informações desnecessárias\n",
    "type1_df = df.copy()\n",
    "type1_df.drop(['Number','Name', 'Type2', 'Generation', 'Legendary'], axis=1, inplace=True)\n",
    "type1_df.columns = ['Type']\n",
    "type2_df = df.copy()\n",
    "type2_df.drop(['Number','Name', 'Type1', 'Generation', 'Legendary'], axis=1, inplace=True)\n",
    "type2_df.columns = ['Type']\n",
    "\n",
    "type_total_df = type1_df.append(type2_df, ignore_index=True, sort=False)\n",
    "\n",
    "# Renomeia coluna\n",
    "# type_total_df.columns = ['Type']\n",
    "\n",
    "# Remove-se a ocorrência de Type2 nulos\n",
    "\n",
    "type_total_df.dropna(inplace=True)\n",
    "type_total_df\n"
   ]
  },
  {
   "cell_type": "markdown",
   "metadata": {},
   "source": [
    "Agora é possível agrupar e então contar a ocorrência para todos os tipos e determinar quais tipos são os mais e menos comuns."
   ]
  },
  {
   "cell_type": "code",
   "execution_count": 171,
   "metadata": {},
   "outputs": [
    {
     "data": {
      "text/plain": [
       "Type\n",
       "Bug          83\n",
       "Dark         52\n",
       "Dragon       58\n",
       "Electric     57\n",
       "Fairy        51\n",
       "Fighting     63\n",
       "Fire         72\n",
       "Flying      112\n",
       "Ghost        55\n",
       "Grass       108\n",
       "Ground       71\n",
       "Ice          39\n",
       "Normal      114\n",
       "Poison       69\n",
       "Psychic     102\n",
       "Rock         65\n",
       "Steel        56\n",
       "Water       140\n",
       "dtype: int64"
      ]
     },
     "execution_count": 171,
     "metadata": {},
     "output_type": "execute_result"
    }
   ],
   "source": [
    "type_qnt = type_total_df.groupby(['Type']).size()\n",
    "\n",
    "type_qnt\n"
   ]
  },
  {
   "cell_type": "markdown",
   "metadata": {},
   "source": [
    "## Pergunta 2: Qual a taxa de Pokémon de tipo único?\n",
    "\n",
    "Agora será investigado quantos Pokémon possuem apenas um tipo. Isso significa que, neste conjunto de dados, Type2 = nulo.\n",
    "Para separar estes valores, então pegamos estes valores nulos e excluímos em um novo conjunto de dados e contamos os valores restantes."
   ]
  },
  {
   "cell_type": "code",
   "execution_count": 165,
   "metadata": {},
   "outputs": [
    {
     "name": "stdout",
     "output_type": "stream",
     "text": [
      "Quantidade de Pokémon de tipo único: 421\n"
     ]
    }
   ],
   "source": [
    "# Conta quantos Pokémon possuem Type2 nulos. Isso indica que o Pokémon possui um único tipo.\n",
    "unique = df['Type2'].isnull().sum()\n",
    "print(\"Quantidade de Pokémon de tipo único:\", unique)"
   ]
  },
  {
   "cell_type": "markdown",
   "metadata": {},
   "source": [
    "Para encontrar a taxa de Pokémon de tipo único é necessário apenas dividir a quantidade de Pokémon com tipo único pela quantidade total de Pokémon."
   ]
  },
  {
   "cell_type": "code",
   "execution_count": 166,
   "metadata": {},
   "outputs": [
    {
     "name": "stdout",
     "output_type": "stream",
     "text": [
      "Taxa de Pokémon de tipo único: 0.47144456886898095\n"
     ]
    }
   ],
   "source": [
    "# Conta quantas linhas o conjunto de dados possui. Subtrai-se 1 para excluir a linha que contém os títulos de cada coluna.\n",
    "total_mon = len(df.index)-1\n",
    "\n",
    "# Calcula a taxa de Pokémon com tipo único em relação ao total de Pokémon\n",
    "unique_rate = unique/total_mon\n",
    "print(\"Taxa de Pokémon de tipo único:\", unique_rate)"
   ]
  },
  {
   "cell_type": "markdown",
   "metadata": {},
   "source": [
    "## Pergunta 3: Qual a taxa de Pokémon lendário?\n",
    "\n",
    "Para encontrar a taxa de lendários ocorrerá um processo semelhante ao anterior. Dessa vez será considerada apenas a coluna \"Legendary\" para determinar então o número de ocorrências de Pokémon lendário em relação à população do conjunto de dados."
   ]
  },
  {
   "cell_type": "code",
   "execution_count": 167,
   "metadata": {},
   "outputs": [
    {
     "name": "stdout",
     "output_type": "stream",
     "text": [
      "Contagem de Pokémon lendário: 79\n"
     ]
    }
   ],
   "source": [
    "# Conta quantos Pokémon são lendários\n",
    "lend_count = df.copy()\n",
    "\n",
    "lend_count.drop(['Number','Name', 'Type1' , 'Type2', 'Generation'], axis=1, inplace=True)\n",
    "lend_count = lend_count[lend_count['Legendary'] == True]['Legendary'].count()\n",
    "print(\"Contagem de Pokémon lendário:\", lend_count)"
   ]
  },
  {
   "cell_type": "code",
   "execution_count": 168,
   "metadata": {},
   "outputs": [
    {
     "name": "stdout",
     "output_type": "stream",
     "text": [
      "Taxa de Pokémon de tipo único: 0.08846584546472565\n"
     ]
    }
   ],
   "source": [
    "# Calcula a taxa de Pokémon com tipo único em relação ao total de Pokémon\n",
    "legend_rate = lend_count/total_mon\n",
    "print(\"Taxa de Pokémon de tipo único:\", legend_rate)"
   ]
  },
  {
   "cell_type": "markdown",
   "metadata": {},
   "source": [
    "## Pergunta 4: Qual a geração que mais possui Pokémon?\n",
    "\n",
    "Este pergunta pode ser respondida pegando o conjunto de dados, excluindo as informações desnecessárias para esta pergunta e agrupando o número de ocorrências por \"Generation\". Dessa forma pode-se conhecer quais gerações mais possuem novas espécies de Pokémon. "
   ]
  },
  {
   "cell_type": "code",
   "execution_count": 172,
   "metadata": {},
   "outputs": [
    {
     "name": "stdout",
     "output_type": "stream",
     "text": [
      "            Number\n",
      "Generation        \n",
      "1              166\n",
      "2              106\n",
      "3              160\n",
      "4              121\n",
      "5              165\n",
      "6               82\n",
      "7               94\n"
     ]
    }
   ],
   "source": [
    "# Copia o conjunto de dados contendo apenas a quantidade por geração \n",
    "gen_df = df.copy()\n",
    "\n",
    "# Exclui colunas indesejadas\n",
    "gen_df.drop(['Name', 'Type1', 'Type2', 'Legendary'], axis=1, inplace=True)\n",
    "\n",
    "# Agrupa os dados por geração\n",
    "gb_df = gen_df.groupby(['Generation']).count()\n",
    "print(gb_df)"
   ]
  },
  {
   "cell_type": "code",
   "execution_count": null,
   "metadata": {},
   "outputs": [],
   "source": []
  }
 ],
 "metadata": {
  "kernelspec": {
   "display_name": "Python 3",
   "language": "python",
   "name": "python3"
  },
  "language_info": {
   "codemirror_mode": {
    "name": "ipython",
    "version": 3
   },
   "file_extension": ".py",
   "mimetype": "text/x-python",
   "name": "python",
   "nbconvert_exporter": "python",
   "pygments_lexer": "ipython3",
   "version": "3.6.5"
  }
 },
 "nbformat": 4,
 "nbformat_minor": 2
}
